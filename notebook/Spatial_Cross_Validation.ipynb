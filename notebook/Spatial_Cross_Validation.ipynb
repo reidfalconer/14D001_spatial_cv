{
 "cells": [
  {
   "cell_type": "markdown",
   "metadata": {},
   "source": [
    "# Spatial Cross-Validation"
   ]
  },
  {
   "cell_type": "markdown",
   "metadata": {
    "toc": true
   },
   "source": [
    "<h1>Table of Contents<span class=\"tocSkip\"></span></h1>\n",
    "<div class=\"toc\"><ul class=\"toc-item\"><li><span><a href=\"#Spatial-Cross-Validation\" data-toc-modified-id=\"Spatial-Cross-Validation-1\">Spatial Cross-Validation</a></span></li><li><span><a href=\"#Introduction\" data-toc-modified-id=\"Introduction-2\">Introduction</a></span></li><li><span><a href=\"#Refrences\" data-toc-modified-id=\"Refrences-3\">Refrences</a></span></li></ul></div>"
   ]
  },
  {
   "cell_type": "markdown",
   "metadata": {},
   "source": [
    "# Introduction"
   ]
  },
  {
   "cell_type": "markdown",
   "metadata": {},
   "source": [
    "<cite data-cite=\"4834982/JFZE4RAZ\"></cite>"
   ]
  },
  {
   "cell_type": "markdown",
   "metadata": {},
   "source": [
    "# Refrences"
   ]
  },
  {
   "cell_type": "markdown",
   "metadata": {},
   "source": [
    "<div class=\"cite2c-biblio\"></div>"
   ]
  },
  {
   "cell_type": "code",
   "execution_count": null,
   "metadata": {},
   "outputs": [],
   "source": []
  }
 ],
 "metadata": {
  "cite2c": {
   "citations": {
    "4834982/JFZE4RAZ": {
     "DOI": "10.1111/ecog.02881",
     "URL": "http://doi.wiley.com/10.1111/ecog.02881",
     "accessed": {
      "day": 25,
      "month": 11,
      "year": 2018
     },
     "author": [
      {
       "family": "Roberts",
       "given": "David R."
      },
      {
       "family": "Bahn",
       "given": "Volker"
      },
      {
       "family": "Ciuti",
       "given": "Simone"
      },
      {
       "family": "Boyce",
       "given": "Mark S."
      },
      {
       "family": "Elith",
       "given": "Jane"
      },
      {
       "family": "Guillera-Arroita",
       "given": "Gurutzeta"
      },
      {
       "family": "Hauenstein",
       "given": "Severin"
      },
      {
       "family": "Lahoz-Monfort",
       "given": "José J."
      },
      {
       "family": "Schröder",
       "given": "Boris"
      },
      {
       "family": "Thuiller",
       "given": "Wilfried"
      },
      {
       "family": "Warton",
       "given": "David I."
      },
      {
       "family": "Wintle",
       "given": "Brendan A."
      },
      {
       "family": "Hartig",
       "given": "Florian"
      },
      {
       "family": "Dormann",
       "given": "Carsten F."
      }
     ],
     "container-title": "Ecography",
     "id": "4834982/JFZE4RAZ",
     "issue": "8",
     "issued": {
      "year": 2017
     },
     "language": "en",
     "page": "913-929",
     "page-first": "913",
     "title": "Cross-validation strategies for data with temporal, spatial, hierarchical, or phylogenetic structure",
     "type": "article-journal",
     "volume": "40"
    }
   }
  },
  "kernelspec": {
   "display_name": "Python 3",
   "language": "python",
   "name": "python3"
  },
  "language_info": {
   "codemirror_mode": {
    "name": "ipython",
    "version": 3
   },
   "file_extension": ".py",
   "mimetype": "text/x-python",
   "name": "python",
   "nbconvert_exporter": "python",
   "pygments_lexer": "ipython3",
   "version": "3.6.5"
  },
  "toc": {
   "base_numbering": 1,
   "nav_menu": {},
   "number_sections": false,
   "sideBar": true,
   "skip_h1_title": false,
   "title_cell": "Table of Contents",
   "title_sidebar": "Contents",
   "toc_cell": true,
   "toc_position": {
    "height": "calc(100% - 180px)",
    "left": "10px",
    "top": "150px",
    "width": "336px"
   },
   "toc_section_display": true,
   "toc_window_display": true
  },
  "varInspector": {
   "cols": {
    "lenName": 16,
    "lenType": 16,
    "lenVar": 40
   },
   "kernels_config": {
    "python": {
     "delete_cmd_postfix": "",
     "delete_cmd_prefix": "del ",
     "library": "var_list.py",
     "varRefreshCmd": "print(var_dic_list())"
    },
    "r": {
     "delete_cmd_postfix": ") ",
     "delete_cmd_prefix": "rm(",
     "library": "var_list.r",
     "varRefreshCmd": "cat(var_dic_list()) "
    }
   },
   "types_to_exclude": [
    "module",
    "function",
    "builtin_function_or_method",
    "instance",
    "_Feature"
   ],
   "window_display": false
  }
 },
 "nbformat": 4,
 "nbformat_minor": 2
}
